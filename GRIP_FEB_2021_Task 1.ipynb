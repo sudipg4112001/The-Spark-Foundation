{
  "nbformat": 4,
  "nbformat_minor": 0,
  "metadata": {
    "colab": {
      "name": "Task_1",
      "provenance": [],
      "collapsed_sections": []
    },
    "kernelspec": {
      "name": "python3",
      "display_name": "Python 3"
    }
  },
  "cells": [
    {
      "cell_type": "markdown",
      "metadata": {
        "id": "2NY1P60Dd7fQ"
      },
      "source": [
        "**TASK 1**\r\n",
        "\r\n",
        "**Author: Sudip Ghosh**\r\n",
        "\r\n",
        "**What will be predicted score if a student studies for 9.25 hrs/ day?**\r\n",
        "\r\n",
        "**Data can be found at http://bit.ly/w-data**\r\n"
      ]
    },
    {
      "cell_type": "code",
      "metadata": {
        "id": "M1EuuMrgS4qk"
      },
      "source": [
        "from sklearn.model_selection import train_test_split \r\n",
        "from sklearn.linear_model import LinearRegression\r\n",
        "import matplotlib.pyplot as plt\r\n",
        "import pandas as pd\r\n",
        "import numpy as np"
      ],
      "execution_count": null,
      "outputs": []
    },
    {
      "cell_type": "code",
      "metadata": {
        "colab": {
          "base_uri": "https://localhost:8080/",
          "height": 212
        },
        "id": "nb2RJGX-WRD2",
        "outputId": "a3070b93-57b8-45a6-bd24-b421089166b9"
      },
      "source": [
        "url = r\"https://raw.githubusercontent.com/AdiPersonalWorks/Random/master/student_scores%20-%20student_scores.csv\"\r\n",
        "s_data = pd.read_csv(url)\r\n",
        "print(\"Data import successful\")\r\n",
        "\r\n",
        "s_data.head()"
      ],
      "execution_count": null,
      "outputs": [
        {
          "output_type": "stream",
          "text": [
            "Data import successful\n"
          ],
          "name": "stdout"
        },
        {
          "output_type": "execute_result",
          "data": {
            "text/html": [
              "<div>\n",
              "<style scoped>\n",
              "    .dataframe tbody tr th:only-of-type {\n",
              "        vertical-align: middle;\n",
              "    }\n",
              "\n",
              "    .dataframe tbody tr th {\n",
              "        vertical-align: top;\n",
              "    }\n",
              "\n",
              "    .dataframe thead th {\n",
              "        text-align: right;\n",
              "    }\n",
              "</style>\n",
              "<table border=\"1\" class=\"dataframe\">\n",
              "  <thead>\n",
              "    <tr style=\"text-align: right;\">\n",
              "      <th></th>\n",
              "      <th>Hours</th>\n",
              "      <th>Scores</th>\n",
              "    </tr>\n",
              "  </thead>\n",
              "  <tbody>\n",
              "    <tr>\n",
              "      <th>0</th>\n",
              "      <td>2.5</td>\n",
              "      <td>21</td>\n",
              "    </tr>\n",
              "    <tr>\n",
              "      <th>1</th>\n",
              "      <td>5.1</td>\n",
              "      <td>47</td>\n",
              "    </tr>\n",
              "    <tr>\n",
              "      <th>2</th>\n",
              "      <td>3.2</td>\n",
              "      <td>27</td>\n",
              "    </tr>\n",
              "    <tr>\n",
              "      <th>3</th>\n",
              "      <td>8.5</td>\n",
              "      <td>75</td>\n",
              "    </tr>\n",
              "    <tr>\n",
              "      <th>4</th>\n",
              "      <td>3.5</td>\n",
              "      <td>30</td>\n",
              "    </tr>\n",
              "  </tbody>\n",
              "</table>\n",
              "</div>"
            ],
            "text/plain": [
              "   Hours  Scores\n",
              "0    2.5      21\n",
              "1    5.1      47\n",
              "2    3.2      27\n",
              "3    8.5      75\n",
              "4    3.5      30"
            ]
          },
          "metadata": {
            "tags": []
          },
          "execution_count": 2
        }
      ]
    },
    {
      "cell_type": "code",
      "metadata": {
        "colab": {
          "base_uri": "https://localhost:8080/",
          "height": 295
        },
        "id": "PdXXOQUFWn45",
        "outputId": "8b539726-619f-4bad-ee70-a2d458603467"
      },
      "source": [
        "s_data.plot(x='Hours', y='Scores', style='.',color='red')  \r\n",
        "plt.style.use('dark_background')\r\n",
        "plt.title('Hours vs Percentage')  \r\n",
        "plt.xlabel('Hours Studied')  \r\n",
        "plt.ylabel('Percentage Score')  \r\n",
        "plt.show()"
      ],
      "execution_count": null,
      "outputs": [
        {
          "output_type": "display_data",
          "data": {
            "image/png": "[encoded data removed]",
            "text/plain": [
              "<Figure size 432x288 with 1 Axes>"
            ]
          },
          "metadata": {
            "tags": [],
            "needs_background": "light"
          }
        }
      ]
    },
    {
      "cell_type": "code",
      "metadata": {
        "id": "_nYgtj-yZaHC"
      },
      "source": [
        "X = s_data.iloc[:, :-1].values  \r\n",
        "y = s_data.iloc[:, 1].values\r\n"
      ],
      "execution_count": null,
      "outputs": []
    },
    {
      "cell_type": "code",
      "metadata": {
        "colab": {
          "base_uri": "https://localhost:8080/"
        },
        "id": "Mom2hMyGafKZ",
        "outputId": "5f480766-d9d3-454a-b005-b33dc1b92761"
      },
      "source": [
        "X_train, X_test, y_train, y_test = train_test_split(X, y, test_size=0.2, random_state=0) \r\n",
        "regressor = LinearRegression()  \r\n",
        "regressor.fit(X_train.reshape(-1,1), y_train) \r\n",
        "\r\n",
        "print(\"Training complete.\")"
      ],
      "execution_count": null,
      "outputs": [
        {
          "output_type": "stream",
          "text": [
            "Training complete.\n"
          ],
          "name": "stdout"
        }
      ]
    },
    {
      "cell_type": "code",
      "metadata": {
        "colab": {
          "base_uri": "https://localhost:8080/",
          "height": 265
        },
        "id": "nb2lfp8QakR8",
        "outputId": "957a7e8b-77cd-4ccd-a206-57668b746404"
      },
      "source": [
        "line = regressor.coef_*X+regressor.intercept_\r\n",
        "plt.scatter(X, y)\r\n",
        "plt.plot(X, line,color='red');\r\n",
        "plt.show()"
      ],
      "execution_count": null,
      "outputs": [
        {
          "output_type": "display_data",
          "data": {
            "image/png": "[encoded data removed]",
            "text/plain": [
              "<Figure size 432x288 with 1 Axes>"
            ]
          },
          "metadata": {
            "tags": []
          }
        }
      ]
    },
    {
      "cell_type": "code",
      "metadata": {
        "colab": {
          "base_uri": "https://localhost:8080/"
        },
        "id": "TnG-Quf1bdnW",
        "outputId": "05078e2a-a603-4b82-8506-99c6663be0b5"
      },
      "source": [
        "print(X_test)\r\n",
        "y_pred = regressor.predict(X_test)"
      ],
      "execution_count": null,
      "outputs": [
        {
          "output_type": "stream",
          "text": [
            "[[1.5]\n",
            " [3.2]\n",
            " [7.4]\n",
            " [2.5]\n",
            " [5.9]]\n"
          ],
          "name": "stdout"
        }
      ]
    },
    {
      "cell_type": "code",
      "metadata": {
        "colab": {
          "base_uri": "https://localhost:8080/"
        },
        "id": "rcYZyme1bx0l",
        "outputId": "ab520e91-0d26-46e4-f297-070cab9bd8ec"
      },
      "source": [
        "df = pd.DataFrame({'Actual': y_test, 'Predicted': y_pred}) \r\n",
        "print(df)"
      ],
      "execution_count": null,
      "outputs": [
        {
          "output_type": "stream",
          "text": [
            "   Actual  Predicted\n",
            "0      20  16.884145\n",
            "1      27  33.732261\n",
            "2      69  75.357018\n",
            "3      30  26.794801\n",
            "4      62  60.491033\n"
          ],
          "name": "stdout"
        }
      ]
    },
    {
      "cell_type": "code",
      "metadata": {
        "colab": {
          "base_uri": "https://localhost:8080/"
        },
        "id": "lRyqaFnccpKQ",
        "outputId": "605d0dbf-6daa-425a-c5bd-4590c0255424"
      },
      "source": [
        "print(\"Training Score:\",regressor.score(X_train,y_train))\r\n",
        "print(\"Test Score:\",regressor.score(X_test,y_test))"
      ],
      "execution_count": null,
      "outputs": [
        {
          "output_type": "stream",
          "text": [
            "Training Score: 0.9515510725211553\n",
            "Test Score: 0.9454906892105354\n"
          ],
          "name": "stdout"
        }
      ]
    },
    {
      "cell_type": "code",
      "metadata": {
        "colab": {
          "base_uri": "https://localhost:8080/",
          "height": 316
        },
        "id": "k6sdlYv0cwEh",
        "outputId": "186c92e1-42fd-4729-cbeb-38693a53bd15"
      },
      "source": [
        "df.plot(kind='bar',figsize=(5,5))\r\n",
        "plt.grid(which='major', linewidth='0.5', color='red')\r\n",
        "plt.grid(which='minor', linewidth='0.5', color='blue')\r\n",
        "plt.show()"
      ],
      "execution_count": null,
      "outputs": [
        {
          "output_type": "display_data",
          "data": {
            "image/png": "[encoded data removed]",
            "text/plain": [
              "<Figure size 360x360 with 1 Axes>"
            ]
          },
          "metadata": {
            "tags": []
          }
        }
      ]
    },
    {
      "cell_type": "code",
      "metadata": {
        "colab": {
          "base_uri": "https://localhost:8080/"
        },
        "id": "39OZj7U7dE6K",
        "outputId": "5007306d-f5ff-414a-a621-27466ab9bd9d"
      },
      "source": [
        "hours = 9.25\r\n",
        "test = np.array([hours])\r\n",
        "test = test.reshape(-1, 1)\r\n",
        "own_pred = regressor.predict(test)\r\n",
        "print(\"No of Hours = {}\".format(hours))\r\n",
        "print(\"Predicted Score = {}\".format(own_pred[0]))"
      ],
      "execution_count": null,
      "outputs": [
        {
          "output_type": "stream",
          "text": [
            "No of Hours = 9.25\n",
            "Predicted Score = 93.69173248737539\n"
          ],
          "name": "stdout"
        }
      ]
    },
    {
      "cell_type": "code",
      "metadata": {
        "colab": {
          "base_uri": "https://localhost:8080/"
        },
        "id": "ZeVS0bOLdgBo",
        "outputId": "df7058bc-8ac4-45e2-a9a2-ed8a1a6259d2"
      },
      "source": [
        "from sklearn import metrics  \r\n",
        "print('Mean Absolute Error:',metrics.mean_absolute_error(y_test, y_pred)) \r\n",
        "print('Mean Squared Error:', metrics.mean_squared_error(y_test, y_pred))\r\n",
        "print('Root Mean Squared Error:', np.sqrt(metrics.mean_squared_error(y_test, y_pred)))\r\n",
        "print('R-2:', metrics.r2_score(y_test, y_pred))"
      ],
      "execution_count": null,
      "outputs": [
        {
          "output_type": "stream",
          "text": [
            "Mean Absolute Error: 4.183859899002982\n",
            "Mean Squared Error: 21.598769307217456\n",
            "Root Mean Squared Error: 4.647447612100373\n",
            "R-2: 0.9454906892105354\n"
          ],
          "name": "stdout"
        }
      ]
    }
  ]
}